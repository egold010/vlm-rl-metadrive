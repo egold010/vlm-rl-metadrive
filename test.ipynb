{
 "cells": [
  {
   "cell_type": "code",
   "execution_count": 1,
   "id": "b97408ed",
   "metadata": {},
   "outputs": [
    {
     "name": "stderr",
     "output_type": "stream",
     "text": [
      "/opt/anaconda3/envs/metadrive/lib/python3.11/site-packages/tqdm/auto.py:21: TqdmWarning: IProgress not found. Please update jupyter and ipywidgets. See https://ipywidgets.readthedocs.io/en/stable/user_install.html\n",
      "  from .autonotebook import tqdm as notebook_tqdm\n"
     ]
    }
   ],
   "source": [
    "import gym\n",
    "import numpy as np\n",
    "import random\n",
    "\n",
    "from gym.spaces import Box\n",
    "\n",
    "from metadrive.envs.metadrive_env import MetaDriveEnv\n",
    "from clip.clip_rewarded_sac import CLIPRewardedSAC\n",
    "from config import CONFIGS\n",
    "\n",
    "from stable_baselines3 import PPO\n",
    "\n",
    "CONFIG = CONFIGS[\"1\"]"
   ]
  },
  {
   "cell_type": "code",
   "execution_count": null,
   "id": "1e71744e",
   "metadata": {},
   "outputs": [],
   "source": [
    "train_env = MetaDriveEnv()\n",
    "\n",
    "# model = CLIPRewardedSAC(env=env, config=CONFIG)\n",
    "# Start with ppo to make sure the observation space is correct\n",
    "model = PPO(\"MlpPolicy\", train_env, n_steps=4096, verbose=1)\n",
    "model.learn(total_timesteps=1000, log_interval=4)\n",
    "train_env.close()"
   ]
  },
  {
   "cell_type": "code",
   "execution_count": null,
   "id": "9d41d3d1",
   "metadata": {},
   "outputs": [],
   "source": [
    "env = MetaDriveEnv(config={\"use_render\": True})\n",
    "total_reward = 0\n",
    "obs, _ = env.reset()\n",
    "\n",
    "agent = env.agent\n",
    "\n",
    "try:\n",
    "    for i in range(1000):\n",
    "        action, _states = model.predict(obs, deterministic=True)\n",
    "        obs, reward, done, _, info = env.step(action)\n",
    "        total_reward += reward\n",
    "        if done:\n",
    "            print(\"episode_reward\", total_reward)\n",
    "            break\n",
    "finally:\n",
    "    env.close()"
   ]
  },
  {
   "cell_type": "code",
   "execution_count": 2,
   "id": "32e7cf0b",
   "metadata": {},
   "outputs": [
    {
     "name": "stderr",
     "output_type": "stream",
     "text": [
      "\u001b[38;20m[INFO] Environment: MetaDriveEnv\u001b[0m\n",
      "\u001b[38;20m[INFO] MetaDrive version: 0.4.3\u001b[0m\n",
      "\u001b[38;20m[INFO] Sensors: [lidar: Lidar(), side_detector: SideDetector(), lane_line_detector: LaneLineDetector(), main_camera: MainCamera(1200, 900), dashboard: DashBoard()]\u001b[0m\n",
      "\u001b[38;20m[INFO] Render Mode: onscreen\u001b[0m\n",
      "\u001b[38;20m[INFO] Horizon (Max steps per agent): 1000\u001b[0m\n",
      "\u001b[38;20m[INFO] Assets version: 0.4.3\u001b[0m\n",
      "\u001b[38;20m[INFO] Known Pipes: CocoaGraphicsPipe\u001b[0m\n",
      "\u001b[33;20m[WARNING] Since your screen is too small (1470, 956), we resize the window to (1147, 860). (engine_core.py:234)\u001b[0m\n",
      "\u001b[38;20m[INFO] Start Scenario Index: 8753, Num Scenarios : 1\u001b[0m\n"
     ]
    }
   ],
   "source": [
    "from metadrive.component.road_network import Road\n",
    "\n",
    "def get_waypoints(agent, delta_s=10):\n",
    "    roads = []\n",
    "    navigation = agent.navigation\n",
    "    checkpoints = navigation.checkpoints\n",
    "\n",
    "    for i in range(len(checkpoints)-1):\n",
    "        road = Road(checkpoints[i], checkpoints[i+1])\n",
    "        roads.append(road)\n",
    "\n",
    "    waypoints = []\n",
    "    # How far we are past the last sample (starts at 0, so first sample is at delta_s)\n",
    "    dist_since_last = 0.0\n",
    "\n",
    "    for idx, road in enumerate(roads):\n",
    "        # pick the first lane\n",
    "        lanes = road.get_lanes(navigation.map.road_network)\n",
    "        lane = lanes[0]\n",
    "\n",
    "        # lateral offset at lane center‐line\n",
    "        middle = (len(lanes) / 2 - 0.5) * lane.width\n",
    "\n",
    "        # longitudinal start on this lane\n",
    "        if idx == 0:\n",
    "            s_start, _ = lane.local_coordinates(agent.position)\n",
    "        else:\n",
    "            s_start = 0.0\n",
    "\n",
    "        lane_len = lane.length\n",
    "        available = lane_len - s_start\n",
    "\n",
    "        # How far into this lane to place the *next* sample?\n",
    "        dist_to_next = (delta_s - dist_since_last) if dist_since_last > 0 else delta_s\n",
    "\n",
    "        # If there isn't enough room for that first sample, just carry on\n",
    "        if available < dist_to_next:\n",
    "            dist_since_last += available\n",
    "            continue\n",
    "\n",
    "        # 1) Place the first sample on this lane\n",
    "        s = s_start + dist_to_next\n",
    "        x, y = lane.position(s, middle)\n",
    "        waypoints.append((x, y, 0.5))\n",
    "\n",
    "        # 2) Place any further full steps of size delta_s\n",
    "        rem = lane_len - s\n",
    "        n_more = int(np.floor(rem / delta_s))\n",
    "        for k in range(1, n_more + 1):\n",
    "            s_i = s + k * delta_s\n",
    "            x_i, y_i = lane.position(s_i, middle)\n",
    "            waypoints.append((x_i, y_i, 0.5))\n",
    "\n",
    "        # 3) Update how much of a “partial” step is left over\n",
    "        dist_since_last = rem - n_more * delta_s\n",
    "\n",
    "    return waypoints\n",
    "\n",
    "from panda3d.core import LVector3f\n",
    "\n",
    "env = MetaDriveEnv(config=dict(\n",
    "    num_scenarios=1,\n",
    "    start_seed=random.randint(0, 10000),\n",
    "    random_lane_width=True,\n",
    "    random_agent_model=True,\n",
    "    random_lane_num=True,\n",
    "    use_render=True,\n",
    "\n",
    "))\n",
    "\n",
    "obs, info = env.reset()\n",
    "agent = env.agent\n",
    "\n",
    "waypoints = get_waypoints(agent)\n",
    "\n",
    "point_drawer = env.engine.make_point_drawer(scale=5)\n",
    "point_drawer.reset()\n",
    "point_drawer.draw_points(waypoints, [[1, 0, 0, 1] for _ in waypoints])\n",
    "\n",
    "try:\n",
    "    for i in range(1000):\n",
    "        obs, reward, terminated, truncated, info = env.step(env.action_space.sample())\n",
    "finally:\n",
    "    env.close()"
   ]
  }
 ],
 "metadata": {
  "kernelspec": {
   "display_name": "metadrive",
   "language": "python",
   "name": "python3"
  },
  "language_info": {
   "codemirror_mode": {
    "name": "ipython",
    "version": 3
   },
   "file_extension": ".py",
   "mimetype": "text/x-python",
   "name": "python",
   "nbconvert_exporter": "python",
   "pygments_lexer": "ipython3",
   "version": "3.11.11"
  }
 },
 "nbformat": 4,
 "nbformat_minor": 5
}
