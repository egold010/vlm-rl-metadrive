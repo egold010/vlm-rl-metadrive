{
 "cells": [
  {
   "cell_type": "code",
   "execution_count": 2,
   "id": "b97408ed",
   "metadata": {},
   "outputs": [],
   "source": [
    "import gym\n",
    "import numpy as np\n",
    "import random\n",
    "\n",
    "from gym.spaces import Box\n",
    "\n",
    "from metadrive.envs.metadrive_env import MetaDriveEnv\n",
    "from clip.clip_rewarded_sac import CLIPRewardedSAC\n",
    "from config import CONFIGS\n",
    "\n",
    "from stable_baselines3 import PPO\n",
    "\n",
    "CONFIG = CONFIGS[\"1\"]"
   ]
  },
  {
   "cell_type": "code",
   "execution_count": null,
   "id": "1e71744e",
   "metadata": {},
   "outputs": [],
   "source": [
    "train_env = MetaDriveEnv()\n",
    "\n",
    "# model = CLIPRewardedSAC(env=env, config=CONFIG)\n",
    "# Start with ppo to make sure the observation space is correct\n",
    "model = PPO(\"MlpPolicy\", train_env, n_steps=4096, verbose=1)\n",
    "model.learn(total_timesteps=1000, log_interval=4)\n",
    "train_env.close()"
   ]
  },
  {
   "cell_type": "code",
   "execution_count": null,
   "id": "9d41d3d1",
   "metadata": {},
   "outputs": [],
   "source": [
    "env = MetaDriveEnv(config={\"use_render\": True})\n",
    "total_reward = 0\n",
    "obs, _ = env.reset()\n",
    "\n",
    "agent = env.agent\n",
    "\n",
    "try:\n",
    "    for i in range(1000):\n",
    "        action, _states = model.predict(obs, deterministic=True)\n",
    "        obs, reward, done, _, info = env.step(action)\n",
    "        total_reward += reward\n",
    "        if done:\n",
    "            print(\"episode_reward\", total_reward)\n",
    "            break\n",
    "finally:\n",
    "    env.close()"
   ]
  },
  {
   "cell_type": "code",
   "execution_count": null,
   "id": "32e7cf0b",
   "metadata": {},
   "outputs": [
    {
     "name": "stderr",
     "output_type": "stream",
     "text": [
      "\u001b[38;20m[INFO] Environment: MetaDriveEnv\u001b[0m\n",
      "\u001b[38;20m[INFO] MetaDrive version: 0.4.3\u001b[0m\n",
      "\u001b[38;20m[INFO] Sensors: [lidar: Lidar(), side_detector: SideDetector(), lane_line_detector: LaneLineDetector(), main_camera: MainCamera(1200, 900), dashboard: DashBoard()]\u001b[0m\n",
      "\u001b[38;20m[INFO] Render Mode: onscreen\u001b[0m\n",
      "\u001b[38;20m[INFO] Horizon (Max steps per agent): 1000\u001b[0m\n",
      "\u001b[38;20m[INFO] Assets version: 0.4.3\u001b[0m\n",
      "\u001b[38;20m[INFO] Known Pipes: CocoaGraphicsPipe\u001b[0m\n",
      "\u001b[33;20m[WARNING] Since your screen is too small (1470, 956), we resize the window to (1147, 860). (engine_core.py:234)\u001b[0m\n",
      "\u001b[38;20m[INFO] Start Scenario Index: 6019, Num Scenarios : 1\u001b[0m\n"
     ]
    },
    {
     "name": "stdout",
     "output_type": "stream",
     "text": [
      "(np.float64(10.0), np.float64(2.183286099714123), 0.5)\n",
      "(np.float64(10.008096731833472), np.float64(2.141840348629557), 0.5)\n"
     ]
    },
    {
     "ename": "SystemExit",
     "evalue": "",
     "output_type": "error",
     "traceback": [
      "An exception has occurred, use %tb to see the full traceback.\n",
      "\u001b[31mSystemExit\u001b[39m\n"
     ]
    },
    {
     "name": "stderr",
     "output_type": "stream",
     "text": [
      "/opt/anaconda3/envs/metadrive/lib/python3.11/site-packages/IPython/core/interactiveshell.py:3678: UserWarning: To exit: use 'exit', 'quit', or Ctrl-D.\n",
      "  warn(\"To exit: use 'exit', 'quit', or Ctrl-D.\", stacklevel=1)\n"
     ]
    }
   ],
   "source": [
    "from metadrive.component.road_network import Road\n",
    "from waypoints import *\n",
    "\n",
    "from panda3d.core import LVector3f\n",
    "\n",
    "env = MetaDriveEnv(config=dict(\n",
    "    num_scenarios=1,\n",
    "    start_seed=random.randint(0, 10000),\n",
    "    random_lane_width=True,\n",
    "    random_agent_model=True,\n",
    "    random_lane_num=True,\n",
    "    use_render=True,\n",
    "))\n",
    "\n",
    "try:\n",
    "    obs, info = env.reset()\n",
    "    agent = env.agent\n",
    "\n",
    "    waypoints = get_waypoints(agent)\n",
    "\n",
    "    point_drawer = env.engine.make_point_drawer(scale=5)\n",
    "    point_drawer.reset()\n",
    "    point_drawer.draw_points(waypoints, [[1, 0, 0, 1] for _ in waypoints])\n",
    "    for i in range(1000):\n",
    "        obs, reward, terminated, truncated, info = env.step(env.action_space.sample())\n",
    "        if i % 100 == 0:\n",
    "            waypoints = get_next_relative_waypoints(agent)\n",
    "            print(waypoints[0])\n",
    "finally:\n",
    "    env.close()"
   ]
  }
 ],
 "metadata": {
  "kernelspec": {
   "display_name": "metadrive",
   "language": "python",
   "name": "python3"
  },
  "language_info": {
   "codemirror_mode": {
    "name": "ipython",
    "version": 3
   },
   "file_extension": ".py",
   "mimetype": "text/x-python",
   "name": "python",
   "nbconvert_exporter": "python",
   "pygments_lexer": "ipython3",
   "version": "3.11.11"
  }
 },
 "nbformat": 4,
 "nbformat_minor": 5
}
