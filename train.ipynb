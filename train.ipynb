{
 "cells": [
  {
   "cell_type": "code",
   "execution_count": 5,
   "id": "97d1b638",
   "metadata": {},
   "outputs": [],
   "source": [
    "import gym\n",
    "import numpy as np\n",
    "\n",
    "from gym.spaces import Box\n",
    "\n",
    "from metadrive.envs.metadrive_env import MetaDriveEnv\n",
    "from clip.clip_rewarded_sac import CLIPRewardedSAC\n",
    "from config import CONFIGS\n",
    "\n",
    "from stable_baselines3 import PPO\n",
    "\n",
    "CONFIG = CONFIGS[\"1\"]"
   ]
  },
  {
   "cell_type": "code",
   "execution_count": null,
   "id": "5ba8c1ba",
   "metadata": {},
   "outputs": [],
   "source": [
    "from metadrive.obs.image_obs import ImageObservation\n",
    "from metadrive.obs.observation_base import BaseObservation\n",
    "\n",
    "class AgentObservation(BaseObservation):\n",
    "    def __init__(self, config):\n",
    "        super(AgentObservation, self).__init__(config)\n",
    "        assert config[\"norm_pixel\"] is False\n",
    "        assert config[\"stack_size\"] == 1\n",
    "        self.seg_obs = ImageObservation(config, \"seg_camera\", config[\"norm_pixel\"])\n",
    "\n",
    "    @property\n",
    "    def observation_space(self):\n",
    "        seg_stack = self.seg_obs.observation_space\n",
    "        seg_obs_space = Box(low=seg_stack.low.min(), high=seg_stack.high.max(), shape=np.squeeze(seg_stack.shape), dtype=seg_stack.dtype)\n",
    "\n",
    "        os = dict( # segsem, steer, throttle, speed, relative position of waypoints\n",
    "            seg=seg_obs_space,\n",
    "            steer=Box(low=-40, high=40, shape=(1,), dtype=np.float32),\n",
    "            throttle=Box(low=-1, high=1, shape=(1,), dtype=np.float32),\n",
    "            speed=Box(low=-80, high=80, shape=(1,), dtype=np.float32),\n",
    "        )\n",
    "        return gym.spaces.Dict(os)\n",
    "\n",
    "    def observe(self, vehicle):\n",
    "        ret = {}\n",
    "\n",
    "        seg_cam = self.engine.get_sensor(\"seg_camera\").cam\n",
    "        agent = seg_cam.getParent()\n",
    "        original_position = seg_cam.getPos()\n",
    "        heading, pitch, roll = seg_cam.getHpr()\n",
    "        seg_img = self.seg_obs.observe(agent, position=original_position, hpr=[heading, pitch, roll])\n",
    "        assert seg_img.ndim == 4\n",
    "        assert seg_img.shape[-1] == 1\n",
    "        assert seg_img.dtype == np.uint8\n",
    "        seg_img = seg_img[..., 0]\n",
    "        seg_img = seg_img[..., ::-1]  # BGR -> RGB\n",
    "        ret[\"seg\"] = seg_img\n",
    "\n",
    "        ego = self.engine.get_sensor(\"ego\")\n",
    "        steer, throttle, speed = ego.perceive()\n",
    "\n",
    "        ret[\"steer\"] = np.array([steer], dtype=np.float32)\n",
    "        ret[\"throttle\"] = np.array([throttle], dtype=np.float32)\n",
    "        ret[\"speed\"] = np.array([speed], dtype=np.float32)\n",
    "\n",
    "        return ret"
   ]
  },
  {
   "cell_type": "code",
   "execution_count": null,
   "id": "68430215",
   "metadata": {},
   "outputs": [],
   "source": [
    "from custom import SegCamera, EgoState, WaypointSensor\n",
    "\n",
    "sensors = dict(\n",
    "    seg_camera=(SegCamera, 100, 100),\n",
    "    ego=(EgoState, 'default_agent'),\n",
    "    waypoint=(WaypointSensor, 'default_agent', 15),\n",
    ")\n",
    "\n",
    "env_cfg = dict(\n",
    "    agent_observation=AgentObservation,\n",
    "\n",
    "    # Image rendering\n",
    "    image_observation=True,\n",
    "    norm_pixel=False,\n",
    "    stack_size=1,\n",
    "\n",
    "    # Sensors\n",
    "    sensors=sensors\n",
    ")"
   ]
  },
  {
   "cell_type": "markdown",
   "id": "44a45db9",
   "metadata": {},
   "source": [
    "### Extra just for dimension testing"
   ]
  },
  {
   "cell_type": "code",
   "execution_count": 6,
   "id": "190d11ee",
   "metadata": {},
   "outputs": [
    {
     "name": "stderr",
     "output_type": "stream",
     "text": [
      "\u001b[38;20m[INFO] Environment: MetaDriveEnv\u001b[0m\n",
      "\u001b[38;20m[INFO] MetaDrive version: 0.4.3\u001b[0m\n",
      "\u001b[38;20m[INFO] Sensors: [lidar: Lidar(), side_detector: SideDetector(), lane_line_detector: LaneLineDetector(), seg_camera: SegCamera(100, 100), imu: IMU(None,)]\u001b[0m\n",
      "\u001b[38;20m[INFO] Render Mode: offscreen\u001b[0m\n",
      "\u001b[38;20m[INFO] Horizon (Max steps per agent): 1000\u001b[0m\n",
      "\u001b[33;20m[WARNING] You have set norm_pixel = False, which means the observation will be uint8 values in [0, 255]. Please make sure you have parsed them later before feeding them to network! (metadrive_env.py:117)\u001b[0m\n",
      "\u001b[38;20m[INFO] Assets version: 0.4.3\u001b[0m\n",
      "\u001b[38;20m[INFO] Known Pipes: CocoaGraphicsPipe\u001b[0m\n",
      "\u001b[38;20m[INFO] Assets version: 0.4.3\u001b[0m\n",
      "\u001b[38;20m[INFO] Known Pipes: CocoaGraphicsPipe\u001b[0m\n",
      "\u001b[38;20m[INFO] Start Scenario Index: 0, Num Scenarios : 1\u001b[0m\n"
     ]
    },
    {
     "data": {
      "image/png": "[encoded data removed]",
      "text/plain": [
       "<Figure size 640x480 with 1 Axes>"
      ]
     },
     "metadata": {},
     "output_type": "display_data"
    }
   ],
   "source": [
    "import matplotlib.pyplot as plt\n",
    "\n",
    "env = MetaDriveEnv(env_cfg)\n",
    "\n",
    "obs, info = env.reset()\n",
    "agent = env.agent\n",
    "obs, reward, terminated, truncated, info = env.step(env.action_space.sample())\n",
    "\n",
    "plt.imshow(obs[\"seg\"])\n",
    "\n",
    "env.close()"
   ]
  },
  {
   "cell_type": "code",
   "execution_count": 5,
   "id": "ba50e37c",
   "metadata": {},
   "outputs": [],
   "source": [
    "env.close()"
   ]
  }
 ],
 "metadata": {
  "kernelspec": {
   "display_name": "metadrive",
   "language": "python",
   "name": "python3"
  },
  "language_info": {
   "codemirror_mode": {
    "name": "ipython",
    "version": 3
   },
   "file_extension": ".py",
   "mimetype": "text/x-python",
   "name": "python",
   "nbconvert_exporter": "python",
   "pygments_lexer": "ipython3",
   "version": "3.11.11"
  }
 },
 "nbformat": 4,
 "nbformat_minor": 5
}
