{
 "cells": [
  {
   "cell_type": "code",
   "execution_count": 1,
   "id": "97d1b638",
   "metadata": {},
   "outputs": [
    {
     "name": "stderr",
     "output_type": "stream",
     "text": [
      "/opt/anaconda3/envs/metadrive/lib/python3.11/site-packages/tqdm/auto.py:21: TqdmWarning: IProgress not found. Please update jupyter and ipywidgets. See https://ipywidgets.readthedocs.io/en/stable/user_install.html\n",
      "  from .autonotebook import tqdm as notebook_tqdm\n"
     ]
    }
   ],
   "source": [
    "import gym\n",
    "import numpy as np\n",
    "\n",
    "from gym.spaces import Box\n",
    "\n",
    "from metadrive.envs.metadrive_env import MetaDriveEnv\n",
    "from clip.clip_rewarded_ppo import CLIPRewardedPPO\n",
    "from config import CONFIGS\n",
    "\n",
    "CONFIG = CONFIGS[\"1\"]\n",
    "w, h = (100, 100)"
   ]
  },
  {
   "cell_type": "code",
   "execution_count": 2,
   "id": "68430215",
   "metadata": {},
   "outputs": [],
   "source": [
    "from custom import SegCamera, EgoState, WaypointSensor, AgentObservation\n",
    "\n",
    "sensors = dict(\n",
    "    seg_camera=(SegCamera, w, h),\n",
    "    ego=(EgoState, 'default_agent'),\n",
    "    waypoint=(WaypointSensor, 'default_agent', 15),\n",
    ")\n",
    "\n",
    "env_cfg = dict(\n",
    "    agent_observation=AgentObservation,\n",
    "\n",
    "    # Image rendering\n",
    "    image_observation=True,\n",
    "    norm_pixel=False,\n",
    "    stack_size=1,\n",
    "\n",
    "    # Sensors\n",
    "    sensors=sensors\n",
    ")"
   ]
  },
  {
   "cell_type": "markdown",
   "id": "44a45db9",
   "metadata": {},
   "source": [
    "### Extra just for dimension testing"
   ]
  },
  {
   "cell_type": "code",
   "execution_count": 3,
   "id": "190d11ee",
   "metadata": {},
   "outputs": [
    {
     "name": "stderr",
     "output_type": "stream",
     "text": [
      "\u001b[38;20m[INFO] Environment: MetaDriveEnv\u001b[0m\n",
      "\u001b[38;20m[INFO] MetaDrive version: 0.4.3\u001b[0m\n",
      "\u001b[38;20m[INFO] Sensors: [lidar: Lidar(), side_detector: SideDetector(), lane_line_detector: LaneLineDetector(), seg_camera: SegCamera(100, 100), ego: EgoState('default_agent',), waypoint: WaypointSensor('default_agent', 15)]\u001b[0m\n",
      "\u001b[38;20m[INFO] Render Mode: offscreen\u001b[0m\n",
      "\u001b[38;20m[INFO] Horizon (Max steps per agent): 1000\u001b[0m\n",
      "\u001b[33;20m[WARNING] You have set norm_pixel = False, which means the observation will be uint8 values in [0, 255]. Please make sure you have parsed them later before feeding them to network! (metadrive_env.py:117)\u001b[0m\n",
      "\u001b[38;20m[INFO] Assets version: 0.4.3\u001b[0m\n",
      "\u001b[38;20m[INFO] Known Pipes: CocoaGraphicsPipe\u001b[0m\n",
      "\u001b[38;20m[INFO] Assets version: 0.4.3\u001b[0m\n",
      "\u001b[38;20m[INFO] Known Pipes: CocoaGraphicsPipe\u001b[0m\n",
      "\u001b[38;20m[INFO] Start Scenario Index: 0, Num Scenarios : 1\u001b[0m\n"
     ]
    }
   ],
   "source": [
    "import matplotlib.pyplot as plt\n",
    "\n",
    "env = MetaDriveEnv(env_cfg)\n",
    "\n",
    "try:\n",
    "    obs, info = env.reset()\n",
    "    agent = env.agent\n",
    "    obs, reward, terminated, truncated, info = env.step(env.action_space.sample())\n",
    "finally:\n",
    "    env.close()"
   ]
  }
 ],
 "metadata": {
  "kernelspec": {
   "display_name": "metadrive",
   "language": "python",
   "name": "python3"
  },
  "language_info": {
   "codemirror_mode": {
    "name": "ipython",
    "version": 3
   },
   "file_extension": ".py",
   "mimetype": "text/x-python",
   "name": "python",
   "nbconvert_exporter": "python",
   "pygments_lexer": "ipython3",
   "version": "3.11.11"
  }
 },
 "nbformat": 4,
 "nbformat_minor": 5
}
